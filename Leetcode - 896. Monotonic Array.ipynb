{
 "cells": [
  {
   "cell_type": "markdown",
   "id": "61c05563",
   "metadata": {},
   "source": [
    "class Solution(object):\n",
    "    def isMonotonic(self, nums):\n",
    "        \"\"\"\n",
    "        :type nums: List[int]\n",
    "        :rtype: bool\n",
    "        \"\"\"\n",
    "        x,y = [],[]\n",
    "        x.extend(nums)\n",
    "        y.extend(nums)\n",
    "        x.sort()\n",
    "        y.sort(reverse=True)\n",
    "\n",
    "        if (x==nums or y==nums):\n",
    "            return(True)\n",
    "        else:\n",
    "            return(False)\n",
    "        "
   ]
  },
  {
   "cell_type": "code",
   "execution_count": 1,
   "id": "807e17f3",
   "metadata": {},
   "outputs": [],
   "source": [
    "nums = [1,2,2,3]"
   ]
  },
  {
   "cell_type": "code",
   "execution_count": 2,
   "id": "be068241",
   "metadata": {},
   "outputs": [],
   "source": [
    "nums = [6,5,4,4]"
   ]
  },
  {
   "cell_type": "code",
   "execution_count": 3,
   "id": "eb754fce",
   "metadata": {},
   "outputs": [],
   "source": [
    "nums = [1,3,2]"
   ]
  },
  {
   "cell_type": "code",
   "execution_count": 4,
   "id": "056a9a50",
   "metadata": {},
   "outputs": [],
   "source": [
    "x,y = [],[]\n",
    "x.extend(nums)\n",
    "y.extend(nums)\n",
    "x.sort()\n",
    "y.sort(reverse=True)"
   ]
  },
  {
   "cell_type": "code",
   "execution_count": 5,
   "id": "6ea7d414",
   "metadata": {},
   "outputs": [
    {
     "data": {
      "text/plain": [
       "[1, 2, 3]"
      ]
     },
     "execution_count": 5,
     "metadata": {},
     "output_type": "execute_result"
    }
   ],
   "source": [
    "x"
   ]
  },
  {
   "cell_type": "code",
   "execution_count": 6,
   "id": "00e4c6da",
   "metadata": {},
   "outputs": [
    {
     "data": {
      "text/plain": [
       "[3, 2, 1]"
      ]
     },
     "execution_count": 6,
     "metadata": {},
     "output_type": "execute_result"
    }
   ],
   "source": [
    "y"
   ]
  },
  {
   "cell_type": "code",
   "execution_count": 7,
   "id": "8d71a601",
   "metadata": {},
   "outputs": [
    {
     "name": "stdout",
     "output_type": "stream",
     "text": [
      "False\n"
     ]
    }
   ],
   "source": [
    "if (x==nums or y==nums):\n",
    "    print(True)\n",
    "else:\n",
    "    print(False)"
   ]
  }
 ],
 "metadata": {
  "kernelspec": {
   "display_name": "Python 3 (ipykernel)",
   "language": "python",
   "name": "python3"
  },
  "language_info": {
   "codemirror_mode": {
    "name": "ipython",
    "version": 3
   },
   "file_extension": ".py",
   "mimetype": "text/x-python",
   "name": "python",
   "nbconvert_exporter": "python",
   "pygments_lexer": "ipython3",
   "version": "3.9.7"
  }
 },
 "nbformat": 4,
 "nbformat_minor": 5
}

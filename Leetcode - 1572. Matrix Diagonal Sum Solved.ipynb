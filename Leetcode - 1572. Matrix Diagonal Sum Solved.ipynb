{
 "cells": [
  {
   "cell_type": "markdown",
   "id": "ce813311",
   "metadata": {},
   "source": [
    "<code>\n",
    "    \n",
    "    class Solution(object):\n",
    "    def diagonalSum(self, mat):\n",
    "        \"\"\"\n",
    "        :type mat: List[List[int]]\n",
    "        :rtype: int\n",
    "        \"\"\"\n",
    "        res = 0\n",
    "        n = len(mat)\n",
    "        for i in range(n):\n",
    "            res += mat[i][i]\n",
    "            res += mat[n - 1 - i][i]\n",
    "        \n",
    "        if n % 2 == 1:\n",
    "            mid = n // 2\n",
    "            res -= mat[mid][mid]\n",
    "        \n",
    "        return res\n",
    "        \n",
    "<red>____________________________________________________________________________________</red>\n",
    "    \n",
    "    import numpy as np\n",
    "class Solution(object):\n",
    "    def diagonalSum(self, mat):\n",
    "        \"\"\"\n",
    "        :type mat: List[List[int]]\n",
    "        :rtype: int\n",
    "        \"\"\"\n",
    "        \n",
    "        q, r, totalSum = 0, 0, 0 \n",
    "\n",
    "        mat1 = np.asarray(mat)\n",
    "        mat1 = np.fliplr(mat1)\n",
    "\n",
    "        sum1 = np.trace(mat)\n",
    "        sum2 = np.trace(mat1)\n",
    "\n",
    "        if len(mat) == len(mat[0]) > 1:\n",
    "            if len(mat)%2 != 0: #finding the intersection co-ordinate of odd length matrix.\n",
    "                q = r = int(len(mat)/2)\n",
    "                totalSum = sum1 + sum2 - mat[q][r]\n",
    "            else:\n",
    "                totalSum = sum1 + sum2\n",
    "        elif len(mat) == len(mat[0]) == 1:\n",
    "            totalSum = sum1\n",
    "\n",
    "        return totalSum\n",
    "    \n",
    "</code>    "
   ]
  },
  {
   "cell_type": "code",
   "execution_count": 20,
   "id": "59bd1414",
   "metadata": {},
   "outputs": [],
   "source": [
    "mat = [[1]]"
   ]
  },
  {
   "cell_type": "code",
   "execution_count": 5,
   "id": "21036dbd",
   "metadata": {},
   "outputs": [],
   "source": [
    "mat = [[1,1,1,1],\n",
    "              [1,1,1,1],\n",
    "              [1,1,1,1],\n",
    "              [1,1,1,1]]"
   ]
  },
  {
   "cell_type": "code",
   "execution_count": 29,
   "id": "2cc42d12",
   "metadata": {},
   "outputs": [
    {
     "data": {
      "text/plain": [
       "63"
      ]
     },
     "execution_count": 29,
     "metadata": {},
     "output_type": "execute_result"
    }
   ],
   "source": [
    "mat = [[7,9,8,6,3],\n",
    "       [3,9,4,5,2],\n",
    "       [8,1,10,4,10],\n",
    "       [9,5,10,9,6],\n",
    "       [7,2,4,10,8]] \n",
    "\n",
    "#expected - 63\n",
    "\n",
    "q, r, totalSum = 0, 0, 0 \n",
    "\n",
    "mat1 = np.asarray(mat)\n",
    "mat1 = np.fliplr(mat1)\n",
    "\n",
    "sum1 = np.trace(mat)\n",
    "sum2 = np.trace(mat1)\n",
    "\n",
    "\n",
    "if len(mat) == len(mat[0]) > 1:\n",
    "    if len(mat)%2 != 0: #finding the intersection co-ordinate of odd length matrix.\n",
    "        q = r = int(len(mat)/2)\n",
    "        totalSum = sum1 + sum2 - mat[q][r]\n",
    "    else:\n",
    "        totalSum = sum1 + sum2\n",
    "elif len(mat) == len(mat[0]) == 1:\n",
    "    totalSum = sum1\n",
    "\n",
    "totalSum\n"
   ]
  },
  {
   "cell_type": "code",
   "execution_count": null,
   "id": "de72c1f2",
   "metadata": {},
   "outputs": [],
   "source": []
  }
 ],
 "metadata": {
  "kernelspec": {
   "display_name": "Python 3 (ipykernel)",
   "language": "python",
   "name": "python3"
  },
  "language_info": {
   "codemirror_mode": {
    "name": "ipython",
    "version": 3
   },
   "file_extension": ".py",
   "mimetype": "text/x-python",
   "name": "python",
   "nbconvert_exporter": "python",
   "pygments_lexer": "ipython3",
   "version": "3.9.7"
  }
 },
 "nbformat": 4,
 "nbformat_minor": 5
}

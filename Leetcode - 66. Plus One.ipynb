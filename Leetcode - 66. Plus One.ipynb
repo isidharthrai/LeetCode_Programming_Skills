{
 "cells": [
  {
   "cell_type": "code",
   "execution_count": 28,
   "id": "85f63d63",
   "metadata": {},
   "outputs": [],
   "source": [
    "digits = [1,2,3]"
   ]
  },
  {
   "cell_type": "code",
   "execution_count": 29,
   "id": "f242cea6",
   "metadata": {},
   "outputs": [
    {
     "name": "stdout",
     "output_type": "stream",
     "text": [
      "[1, 2, 4]\n"
     ]
    }
   ],
   "source": [
    "digits = [str(x) for x in digits]  #convert digits into string\n",
    "convertDigits = str((int(''.join(digits))) + 1) #join the digits, convert to integer then increment by 1 and again convert to string\n",
    "convertDigits = [int(x) for x in convertDigits] #create the resulting number into list\n",
    "print(convertDigits) #replace by return"
   ]
  }
 ],
 "metadata": {
  "kernelspec": {
   "display_name": "Python 3 (ipykernel)",
   "language": "python",
   "name": "python3"
  },
  "language_info": {
   "codemirror_mode": {
    "name": "ipython",
    "version": 3
   },
   "file_extension": ".py",
   "mimetype": "text/x-python",
   "name": "python",
   "nbconvert_exporter": "python",
   "pygments_lexer": "ipython3",
   "version": "3.9.7"
  }
 },
 "nbformat": 4,
 "nbformat_minor": 5
}

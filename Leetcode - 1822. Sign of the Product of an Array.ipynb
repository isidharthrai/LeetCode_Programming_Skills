{
 "cells": [
  {
   "cell_type": "code",
   "execution_count": 42,
   "id": "4a601b4a",
   "metadata": {},
   "outputs": [],
   "source": [
    "nums = [-1,-2,-3,-4,3,2,1]"
   ]
  },
  {
   "cell_type": "code",
   "execution_count": 43,
   "id": "39631255",
   "metadata": {},
   "outputs": [
    {
     "name": "stdout",
     "output_type": "stream",
     "text": [
      "1\n"
     ]
    }
   ],
   "source": [
    "multiple = 1\n",
    "\n",
    "for x in nums:\n",
    "    multiple = x*multiple\n",
    "\n",
    "if multiple > 0:\n",
    "    print(1) #replace with return\n",
    "elif multiple < 0:\n",
    "    print(-1)\n",
    "elif multiple == 0:\n",
    "    print(0)"
   ]
  }
 ],
 "metadata": {
  "kernelspec": {
   "display_name": "Python 3 (ipykernel)",
   "language": "python",
   "name": "python3"
  },
  "language_info": {
   "codemirror_mode": {
    "name": "ipython",
    "version": 3
   },
   "file_extension": ".py",
   "mimetype": "text/x-python",
   "name": "python",
   "nbconvert_exporter": "python",
   "pygments_lexer": "ipython3",
   "version": "3.9.7"
  }
 },
 "nbformat": 4,
 "nbformat_minor": 5
}

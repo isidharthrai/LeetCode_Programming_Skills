{
 "cells": [
  {
   "cell_type": "markdown",
   "id": "5df91f02",
   "metadata": {},
   "source": [
    "<code>\n",
    "    \n",
    "class Solution(object):\n",
    "    def isRobotBounded(self, instructions):\n",
    "        \"\"\"\n",
    "        :type instructions: str\n",
    "        :rtype: bool\n",
    "        \"\"\"\n",
    "        x, y, dx, dy = 0, 0, 0, 1\n",
    "        for i in instructions:\n",
    "            if i == 'R': dx, dy = dy, -dx\n",
    "            if i == 'L': dx, dy = -dy, dx\n",
    "            if i == 'G': x, y = x + dx, y + dy\n",
    "        return (x, y) == (0, 0) or (dx, dy) != (0,1)\n",
    "    \n",
    "</code>"
   ]
  },
  {
   "cell_type": "code",
   "execution_count": 1,
   "id": "2d472da9",
   "metadata": {},
   "outputs": [],
   "source": [
    "instructions = \"GGLLGG\""
   ]
  },
  {
   "cell_type": "code",
   "execution_count": 2,
   "id": "fadcc565",
   "metadata": {},
   "outputs": [
    {
     "name": "stdout",
     "output_type": "stream",
     "text": [
      "True\n"
     ]
    }
   ],
   "source": [
    "x, y, dx, dy = 0, 0, 0, 1\n",
    "#x,y are coordinates\n",
    "#dx, dy are the directions\n",
    "\n",
    "for i in instructions:\n",
    "    if i == 'R': dx, dy = dy, -dx #moving right\n",
    "    if i == 'L': dx, dy = -dy, dx #moving left\n",
    "    if i == 'G': x, y = x + dx, y + dy #moving ahead\n",
    "print((x, y) == (0, 0) or (dx, dy) != (0,1))"
   ]
  },
  {
   "cell_type": "code",
   "execution_count": null,
   "id": "88635fad",
   "metadata": {},
   "outputs": [],
   "source": []
  }
 ],
 "metadata": {
  "kernelspec": {
   "display_name": "Python 3 (ipykernel)",
   "language": "python",
   "name": "python3"
  },
  "language_info": {
   "codemirror_mode": {
    "name": "ipython",
    "version": 3
   },
   "file_extension": ".py",
   "mimetype": "text/x-python",
   "name": "python",
   "nbconvert_exporter": "python",
   "pygments_lexer": "ipython3",
   "version": "3.9.7"
  }
 },
 "nbformat": 4,
 "nbformat_minor": 5
}

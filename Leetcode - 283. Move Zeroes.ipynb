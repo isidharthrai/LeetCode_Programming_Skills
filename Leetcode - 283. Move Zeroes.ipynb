{
 "cells": [
  {
   "cell_type": "code",
   "execution_count": 4,
   "id": "aa7e7ff1",
   "metadata": {},
   "outputs": [],
   "source": [
    "nums = [0,1,0,3,12]\n",
    "#Output: [1,3,12,0,0]"
   ]
  },
  {
   "cell_type": "code",
   "execution_count": 7,
   "id": "1c92bb46",
   "metadata": {},
   "outputs": [],
   "source": [
    "nums = [0]\n",
    "#Output: [0]"
   ]
  },
  {
   "cell_type": "code",
   "execution_count": 8,
   "id": "f0cd6ba0",
   "metadata": {},
   "outputs": [],
   "source": [
    "y = len(nums)\n",
    "for x in range(y):\n",
    "    if nums[x] == 0:\n",
    "        nums.remove(nums[x])\n",
    "        nums.append(0)\n",
    "    else:\n",
    "        pass\n",
    "\n",
    "#return nums"
   ]
  },
  {
   "cell_type": "code",
   "execution_count": 9,
   "id": "177bc544",
   "metadata": {},
   "outputs": [
    {
     "data": {
      "text/plain": [
       "[0]"
      ]
     },
     "execution_count": 9,
     "metadata": {},
     "output_type": "execute_result"
    }
   ],
   "source": [
    "nums"
   ]
  }
 ],
 "metadata": {
  "kernelspec": {
   "display_name": "Python 3 (ipykernel)",
   "language": "python",
   "name": "python3"
  },
  "language_info": {
   "codemirror_mode": {
    "name": "ipython",
    "version": 3
   },
   "file_extension": ".py",
   "mimetype": "text/x-python",
   "name": "python",
   "nbconvert_exporter": "python",
   "pygments_lexer": "ipython3",
   "version": "3.9.7"
  }
 },
 "nbformat": 4,
 "nbformat_minor": 5
}

{
 "cells": [
  {
   "cell_type": "markdown",
   "id": "9dc22f71",
   "metadata": {},
   "source": [
    "<code>"
    "class Solution(object):\n",
    "    def canMakeArithmeticProgression(self, arr):\n",
    "        \"\"\"\n",
    "        :type arr: List[int]\n",
    "        :rtype: bool\n",
    "        \"\"\"\n",
    "        arr.sort()\n",
    "        diff = set()\n",
    "        for x in range (len(arr)):\n",
    "            if x == 0:\n",
    "                continue\n",
    "            else:\n",
    "                diff.add(arr[x] - arr[x-1])\n",
    "        \n",
    "        if len(diff) == 1:\n",
    "            return True\n",
    "        else:\n",
    "            return False\n",
    "</code>"
   ]
  },
  {
   "cell_type": "markdown",
   "id": "e0256468",
   "metadata": {},
   "source": [
    "## Explaination"
   ]
  },
  {
   "cell_type": "code",
   "execution_count": 23,
   "id": "1ee0f769",
   "metadata": {},
   "outputs": [],
   "source": [
    "#arr = [3,5,1,11]\n",
    "arr = [1,2,4]"
   ]
  },
  {
   "cell_type": "code",
   "execution_count": 24,
   "id": "ee07310f",
   "metadata": {},
   "outputs": [],
   "source": [
    "arr.sort() #sort the array for increasing progression and difference could be consistent"
   ]
  },
  {
   "cell_type": "code",
   "execution_count": 25,
   "id": "8e67b878",
   "metadata": {},
   "outputs": [],
   "source": [
    "diff = set() #taking this parameter as SET, so that if difference is changed it can only be stored once."
   ]
  },
  {
   "cell_type": "code",
   "execution_count": 26,
   "id": "d5984463",
   "metadata": {},
   "outputs": [
    {
     "name": "stdout",
     "output_type": "stream",
     "text": [
      "False\n"
     ]
    }
   ],
   "source": [
    "for x in range (len(arr)):\n",
    "    if x == 0:\n",
    "        continue #not valid at index 0\n",
    "    else:\n",
    "        diff.add(arr[x] - arr[x-1])\n",
    "\n",
    "if len(diff) == 1:\n",
    "    print(True)\n",
    "else:\n",
    "    print(False)\n",
    "    \n"
   ]
  },
  {
   "cell_type": "code",
   "execution_count": 27,
   "id": "070d40bb",
   "metadata": {},
   "outputs": [
    {
     "data": {
      "text/plain": [
       "{1, 2}"
      ]
     },
     "execution_count": 27,
     "metadata": {},
     "output_type": "execute_result"
    }
   ],
   "source": [
    "diff"
   ]
  }
 ],
 "metadata": {
  "kernelspec": {
   "display_name": "Python 3 (ipykernel)",
   "language": "python",
   "name": "python3"
  },
  "language_info": {
   "codemirror_mode": {
    "name": "ipython",
    "version": 3
   },
   "file_extension": ".py",
   "mimetype": "text/x-python",
   "name": "python",
   "nbconvert_exporter": "python",
   "pygments_lexer": "ipython3",
   "version": "3.9.7"
  }
 },
 "nbformat": 4,
 "nbformat_minor": 5
}

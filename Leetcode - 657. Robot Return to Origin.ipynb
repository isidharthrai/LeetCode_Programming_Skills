{
 "cells": [
  {
   "cell_type": "markdown",
   "id": "9210944b",
   "metadata": {},
   "source": [
    "<code>\n",
    "class Solution(object):\n",
    "    def judgeCircle(self, moves):\n",
    "        \"\"\"\n",
    "        :type moves: str\n",
    "        :rtype: bool\n",
    "        \"\"\"\n",
    "        #origin\n",
    "        x,y = 0,0\n",
    "        for m in moves:\n",
    "            if m == \"U\":\n",
    "                y += 1\n",
    "            elif m == \"D\":\n",
    "                y -= 1\n",
    "            elif m == \"L\":\n",
    "                x -= 1\n",
    "            elif m == \"R\":\n",
    "                x += 1            \n",
    "        return x==0 and y==0\n",
    "</code>        "
   ]
  },
  {
   "cell_type": "code",
   "execution_count": 11,
   "id": "42881266",
   "metadata": {},
   "outputs": [],
   "source": [
    "moves = \"UD\""
   ]
  },
  {
   "cell_type": "code",
   "execution_count": 8,
   "id": "03b69e18",
   "metadata": {},
   "outputs": [],
   "source": [
    "moves = \"LLDDD\""
   ]
  },
  {
   "cell_type": "code",
   "execution_count": 15,
   "id": "22e87dc5",
   "metadata": {},
   "outputs": [],
   "source": [
    "moves = \"LDRRLRUULR\""
   ]
  },
  {
   "cell_type": "code",
   "execution_count": 17,
   "id": "82890374",
   "metadata": {},
   "outputs": [
    {
     "name": "stdout",
     "output_type": "stream",
     "text": [
      "False\n"
     ]
    }
   ],
   "source": [
    "#origin\n",
    "x,y = 0,0\n",
    "\n",
    "for m in moves:\n",
    "    if m == \"U\":\n",
    "        y += 1\n",
    "    elif m == \"D\":\n",
    "        y -= 1\n",
    "    elif m == \"L\":\n",
    "        x -= 1\n",
    "    elif m == \"R\":\n",
    "        x += 1\n",
    "\n",
    "print(x==0 and y==0)"
   ]
  },
  {
   "cell_type": "code",
   "execution_count": 10,
   "id": "1f699723",
   "metadata": {},
   "outputs": [
    {
     "data": {
      "text/plain": [
       "-1"
      ]
     },
     "execution_count": 10,
     "metadata": {},
     "output_type": "execute_result"
    }
   ],
   "source": [
    "origin"
   ]
  },
  {
   "cell_type": "code",
   "execution_count": null,
   "id": "2a77d41f",
   "metadata": {},
   "outputs": [],
   "source": []
  }
 ],
 "metadata": {
  "kernelspec": {
   "display_name": "Python 3 (ipykernel)",
   "language": "python",
   "name": "python3"
  },
  "language_info": {
   "codemirror_mode": {
    "name": "ipython",
    "version": 3
   },
   "file_extension": ".py",
   "mimetype": "text/x-python",
   "name": "python",
   "nbconvert_exporter": "python",
   "pygments_lexer": "ipython3",
   "version": "3.9.7"
  }
 },
 "nbformat": 4,
 "nbformat_minor": 5
}

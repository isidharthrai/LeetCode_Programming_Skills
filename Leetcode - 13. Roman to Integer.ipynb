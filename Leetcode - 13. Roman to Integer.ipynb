{
 "cells": [
  {
   "cell_type": "markdown",
   "id": "073a45c0",
   "metadata": {},
   "source": [
    "<code>\n",
    "class Solution(object):\n",
    "    def romanToInt(self, s):\n",
    "        \"\"\"\n",
    "        :type s: str\n",
    "        :rtype: int\n",
    "        \"\"\"\n",
    "        dict1 = {'I':1,\n",
    "         'V':5,\n",
    "         'X':10,\n",
    "         'L':50,\n",
    "         'C':100,\n",
    "         'D':500,\n",
    "         'M':1000,\n",
    "         'IV':4,\n",
    "         'IX':9,\n",
    "         'XL':40,\n",
    "         'XC':90,\n",
    "         'CD':400,\n",
    "         'CM':900\n",
    "        }\n",
    "        x = 0\n",
    "        val = 0\n",
    "        while x < len(s):\n",
    "            if x+1<len(s) and s[x:x+2] in dict1: #checking for combinations upto two places.\n",
    "                val+=dict1[s[x:x+2]]\n",
    "                x+=2\n",
    "            else: \n",
    "                val+=dict1[s[x]]\n",
    "                x+=1\n",
    "        return val\n",
    "</code>"
   ]
  },
  {
   "cell_type": "code",
   "execution_count": 47,
   "id": "88a36f27",
   "metadata": {},
   "outputs": [],
   "source": [
    "s ='MCMXCIV' #1994"
   ]
  },
  {
   "cell_type": "code",
   "execution_count": 48,
   "id": "5e8cee08",
   "metadata": {},
   "outputs": [
    {
     "name": "stdout",
     "output_type": "stream",
     "text": [
      "1994\n"
     ]
    }
   ],
   "source": [
    "dict1 = {'I':1,\n",
    "         'V':5,\n",
    "         'X':10,\n",
    "         'L':50,\n",
    "         'C':100,\n",
    "         'D':500,\n",
    "         'M':1000,\n",
    "         'IV':4,\n",
    "         'IX':9,\n",
    "         'XL':40,\n",
    "         'XC':90,\n",
    "         'CD':400,\n",
    "         'CM':900\n",
    "        }\n",
    "i = 0\n",
    "val = 0\n",
    "while i < len(s):\n",
    "    if i+1<len(s) and s[i:i+2] in dict1: #checking for combinations upto two places.\n",
    "        val+=dict1[s[i:i+2]]\n",
    "        i+=2\n",
    "    else: \n",
    "        val+=dict1[s[i]]\n",
    "        i+=1\n",
    "print(val)"
   ]
  }
 ],
 "metadata": {
  "kernelspec": {
   "display_name": "Python 3 (ipykernel)",
   "language": "python",
   "name": "python3"
  },
  "language_info": {
   "codemirror_mode": {
    "name": "ipython",
    "version": 3
   },
   "file_extension": ".py",
   "mimetype": "text/x-python",
   "name": "python",
   "nbconvert_exporter": "python",
   "pygments_lexer": "ipython3",
   "version": "3.9.7"
  }
 },
 "nbformat": 4,
 "nbformat_minor": 5
}

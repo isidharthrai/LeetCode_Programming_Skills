{
 "cells": [
  {
   "cell_type": "markdown",
   "id": "38e347f7",
   "metadata": {},
   "source": [
    "<code>\n",
    "    class Solution(object):\n",
    "    def lengthOfLastWord(self, s):\n",
    "        \"\"\"\n",
    "        :type s: str\n",
    "        :rtype: int\n",
    "        \"\"\"\n",
    "        s = s.rstrip()\n",
    "        s = s.split(' ')\n",
    "        x = len(s.pop())\n",
    "        return x\n",
    "</code>"
   ]
  },
  {
   "cell_type": "code",
   "execution_count": 1,
   "id": "205e8e4c",
   "metadata": {},
   "outputs": [],
   "source": [
    "s = \"Hello World\""
   ]
  },
  {
   "cell_type": "code",
   "execution_count": 5,
   "id": "8a8142db",
   "metadata": {},
   "outputs": [],
   "source": [
    "s = \"   fly me   to   the moon  \""
   ]
  },
  {
   "cell_type": "code",
   "execution_count": 9,
   "id": "1524fef8",
   "metadata": {},
   "outputs": [],
   "source": [
    " s = \"luffy is still joyboy\""
   ]
  },
  {
   "cell_type": "code",
   "execution_count": 10,
   "id": "386a2432",
   "metadata": {},
   "outputs": [
    {
     "name": "stdout",
     "output_type": "stream",
     "text": [
      "6\n"
     ]
    }
   ],
   "source": [
    "s = s.rstrip() #remove whitespaces from right end\n",
    "s = s.split(' ') #convert string to list over ' '\n",
    "x = len(s.pop()) #retrive the last element from the list\n",
    "print(x)"
   ]
  },
  {
   "cell_type": "code",
   "execution_count": 11,
   "id": "5243c8f7",
   "metadata": {},
   "outputs": [
    {
     "data": {
      "text/plain": [
       "6"
      ]
     },
     "execution_count": 11,
     "metadata": {},
     "output_type": "execute_result"
    }
   ],
   "source": [
    "x"
   ]
  },
  {
   "cell_type": "code",
   "execution_count": 12,
   "id": "9650ee99",
   "metadata": {},
   "outputs": [
    {
     "data": {
      "text/plain": [
       "['luffy', 'is', 'still']"
      ]
     },
     "execution_count": 12,
     "metadata": {},
     "output_type": "execute_result"
    }
   ],
   "source": [
    "s"
   ]
  },
  {
   "cell_type": "code",
   "execution_count": null,
   "id": "a3c7ee56",
   "metadata": {},
   "outputs": [],
   "source": []
  }
 ],
 "metadata": {
  "kernelspec": {
   "display_name": "Python 3 (ipykernel)",
   "language": "python",
   "name": "python3"
  },
  "language_info": {
   "codemirror_mode": {
    "name": "ipython",
    "version": 3
   },
   "file_extension": ".py",
   "mimetype": "text/x-python",
   "name": "python",
   "nbconvert_exporter": "python",
   "pygments_lexer": "ipython3",
   "version": "3.9.7"
  }
 },
 "nbformat": 4,
 "nbformat_minor": 5
}

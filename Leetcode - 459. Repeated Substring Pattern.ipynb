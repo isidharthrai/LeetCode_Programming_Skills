{
 "cells": [
  {
   "cell_type": "code",
   "execution_count": 1,
   "id": "c422e756",
   "metadata": {},
   "outputs": [],
   "source": [
    "s = \"abcabc\""
   ]
  },
  {
   "cell_type": "code",
   "execution_count": 2,
   "id": "7161bdf1",
   "metadata": {},
   "outputs": [
    {
     "name": "stdout",
     "output_type": "stream",
     "text": [
      "True\n"
     ]
    }
   ],
   "source": [
    "print( s in (s+s)[1:-1]) "
   ]
  }
 ],
 "metadata": {
  "kernelspec": {
   "display_name": "Python 3 (ipykernel)",
   "language": "python",
   "name": "python3"
  },
  "language_info": {
   "codemirror_mode": {
    "name": "ipython",
    "version": 3
   },
   "file_extension": ".py",
   "mimetype": "text/x-python",
   "name": "python",
   "nbconvert_exporter": "python",
   "pygments_lexer": "ipython3",
   "version": "3.9.7"
  }
 },
 "nbformat": 4,
 "nbformat_minor": 5
}

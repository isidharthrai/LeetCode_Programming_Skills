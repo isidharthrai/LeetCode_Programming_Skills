{
 "cells": [
  {
   "cell_type": "markdown",
   "id": "30eb8427",
   "metadata": {},
   "source": [
    "## Submission 1"
   ]
  },
  {
   "cell_type": "markdown",
   "id": "f716b6fa",
   "metadata": {},
   "source": [
    "<code>\n",
    "    \n",
    "class Solution(object):\n",
    "    def countOdds(self, low, high):\n",
    "        \"\"\"\n",
    "        :type low: int\n",
    "        :type high: int\n",
    "        :rtype: int\n",
    "        \"\"\"\n",
    "        count = 0\n",
    "        for x in range(low, high+1):\n",
    "            if x % 2 != 0:\n",
    "                count += 1\n",
    "                \n",
    "        return count\n",
    "    \n",
    "</code>"
   ]
  },
  {
   "cell_type": "markdown",
   "id": "5c0b3f86",
   "metadata": {},
   "source": [
    "## Submission 2"
   ]
  },
  {
   "cell_type": "markdown",
   "id": "670b7463",
   "metadata": {},
   "source": [
    "<CODE>\n",
    "\n",
    "class Solution(object):\n",
    "    def countOdds(self, low, high):\n",
    "        \"\"\"\n",
    "        :type low: int\n",
    "        :type high: int\n",
    "        :rtype: int\n",
    "        \"\"\"\n",
    "        # Calculate the count of odd numbers in the range [low, high]\n",
    "        # If low is odd, count will be (high - low + 1) // 2\n",
    "        # If low is even, count will be (high - low) // 2 + 1\n",
    "        return (high - low) // 2 + (1 if low % 2 != 0 or high % 2 != 0 else 0)\n",
    "\n",
    "\n",
    "</CODE>"
   ]
  },
  {
   "cell_type": "code",
   "execution_count": 10,
   "id": "fdd94393",
   "metadata": {},
   "outputs": [],
   "source": [
    "low,high = 3,9"
   ]
  },
  {
   "cell_type": "markdown",
   "id": "8520680d",
   "metadata": {},
   "source": [
    "### Count or print number of odds between two numbers"
   ]
  },
  {
   "cell_type": "code",
   "execution_count": 14,
   "id": "9adba381",
   "metadata": {},
   "outputs": [
    {
     "name": "stdout",
     "output_type": "stream",
     "text": [
      "3\n",
      "[3, 5, 7]\n",
      "3\n"
     ]
    }
   ],
   "source": [
    "count = 0\n",
    "res = []\n",
    "\n",
    "for x in range(low, high):\n",
    "    if x % 2 != 0:\n",
    "        count += 1\n",
    "        res.append(x)\n",
    "\n",
    "print(count)\n",
    "print(res)\n",
    "print(len(res))"
   ]
  },
  {
   "cell_type": "markdown",
   "id": "c751f41d",
   "metadata": {},
   "source": [
    "### Count or print number of primes between two numbers"
   ]
  },
  {
   "cell_type": "code",
   "execution_count": 11,
   "id": "cf530c9e",
   "metadata": {},
   "outputs": [],
   "source": [
    "def isPrime(val):\n",
    "    if val <= 1:\n",
    "        return False\n",
    "    for i in range (2, int(val**0.5)+1):\n",
    "        if val%i == 0:\n",
    "            return False\n",
    "    return True"
   ]
  },
  {
   "cell_type": "code",
   "execution_count": 13,
   "id": "e43dcc44",
   "metadata": {},
   "outputs": [
    {
     "name": "stdout",
     "output_type": "stream",
     "text": [
      "[3, 5, 7]\n",
      "3\n",
      "3\n"
     ]
    }
   ],
   "source": [
    "res = []\n",
    "count = 0\n",
    "for x in range(low, high):\n",
    "    if isPrime(x):\n",
    "        res.append(x)\n",
    "        count+=1\n",
    "print(res)\n",
    "print(count)\n",
    "print(len(res))"
   ]
  },
  {
   "cell_type": "code",
   "execution_count": null,
   "id": "7df3aece",
   "metadata": {},
   "outputs": [],
   "source": []
  }
 ],
 "metadata": {
  "kernelspec": {
   "display_name": "Python 3 (ipykernel)",
   "language": "python",
   "name": "python3"
  },
  "language_info": {
   "codemirror_mode": {
    "name": "ipython",
    "version": 3
   },
   "file_extension": ".py",
   "mimetype": "text/x-python",
   "name": "python",
   "nbconvert_exporter": "python",
   "pygments_lexer": "ipython3",
   "version": "3.9.7"
  }
 },
 "nbformat": 4,
 "nbformat_minor": 5
}

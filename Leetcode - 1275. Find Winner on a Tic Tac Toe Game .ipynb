{
 "cells": [
  {
   "cell_type": "markdown",
   "id": "883c82ea",
   "metadata": {},
   "source": [
    "<code>\n",
    "    \n",
    "    class Solution(object):\n",
    "    def tictactoe(self, moves):\n",
    "        \"\"\"\n",
    "        :type moves: List[List[int]]\n",
    "        :rtype: str\n",
    "        \"\"\"\n",
    "        board = [[' ' for _ in range(3)] for _ in range(3)]\n",
    "\n",
    "        # Fill the board according to the moves\n",
    "        for i, (row, col) in enumerate(moves):\n",
    "            if i % 2 == 0:\n",
    "                board[row][col] = 'X'\n",
    "            else:\n",
    "                board[row][col] = 'O'\n",
    "\n",
    "        # Define winning conditions\n",
    "        winning_conditions = [\n",
    "            [(0, 0), (0, 1), (0, 2)],  # Rows\n",
    "            [(1, 0), (1, 1), (1, 2)],\n",
    "            [(2, 0), (2, 1), (2, 2)],\n",
    "            [(0, 0), (1, 0), (2, 0)],  # Columns\n",
    "            [(0, 1), (1, 1), (2, 1)],\n",
    "            [(0, 2), (1, 2), (2, 2)],\n",
    "            [(0, 0), (1, 1), (2, 2)],  # Diagonals\n",
    "            [(0, 2), (1, 1), (2, 0)]\n",
    "        ]\n",
    "\n",
    "        # Check for winning conditions\n",
    "        for condition in winning_conditions:\n",
    "            symbols = [board[row][col] for row, col in condition]\n",
    "            if symbols.count('X') == 3:\n",
    "                return 'A'\n",
    "            elif symbols.count('O') == 3:\n",
    "                return 'B'\n",
    "\n",
    "        # Check for draw or pending game\n",
    "        if len(moves) == 9:\n",
    "            return 'Draw'\n",
    "        else:\n",
    "            return 'Pending'\n",
    "</code>"
   ]
  },
  {
   "cell_type": "code",
   "execution_count": 1,
   "id": "97b04c2b",
   "metadata": {},
   "outputs": [],
   "source": [
    "moves = [[0,0],[2,0],[1,1],[2,1],[2,2]]"
   ]
  },
  {
   "cell_type": "code",
   "execution_count": 3,
   "id": "b986d540",
   "metadata": {},
   "outputs": [
    {
     "data": {
      "text/plain": [
       "[[' ', ' ', ' '], [' ', ' ', ' '], [' ', ' ', ' ']]"
      ]
     },
     "execution_count": 3,
     "metadata": {},
     "output_type": "execute_result"
    }
   ],
   "source": [
    "board = [[' ' for _ in range(3)] for _ in range(3)]\n",
    "board"
   ]
  },
  {
   "cell_type": "code",
   "execution_count": 4,
   "id": "e55fabae",
   "metadata": {},
   "outputs": [],
   "source": [
    "# Fill the board according to the moves\n",
    "for i, (row, col) in enumerate(moves):\n",
    "    if i % 2 == 0: #all even indices in moves is for X\n",
    "        board[row][col] = 'X'\n",
    "    else:\n",
    "        board[row][col] = 'O'"
   ]
  },
  {
   "cell_type": "code",
   "execution_count": 5,
   "id": "e2197cee",
   "metadata": {},
   "outputs": [
    {
     "data": {
      "text/plain": [
       "[['X', ' ', ' '], [' ', 'X', ' '], ['O', 'O', 'X']]"
      ]
     },
     "execution_count": 5,
     "metadata": {},
     "output_type": "execute_result"
    }
   ],
   "source": [
    "board"
   ]
  },
  {
   "cell_type": "code",
   "execution_count": 7,
   "id": "e4ae415b",
   "metadata": {},
   "outputs": [
    {
     "data": {
      "text/plain": [
       "[[(0, 0), (0, 1), (0, 2)],\n",
       " [(1, 0), (1, 1), (1, 2)],\n",
       " [(2, 0), (2, 1), (2, 2)],\n",
       " [(0, 0), (1, 0), (2, 0)],\n",
       " [(0, 1), (1, 1), (2, 1)],\n",
       " [(0, 2), (1, 2), (2, 2)],\n",
       " [(0, 0), (1, 1), (2, 2)],\n",
       " [(0, 2), (1, 1), (2, 0)]]"
      ]
     },
     "execution_count": 7,
     "metadata": {},
     "output_type": "execute_result"
    }
   ],
   "source": [
    "# Define winning conditions\n",
    "winning_conditions = [\n",
    "    [(0, 0), (0, 1), (0, 2)],  # Rows\n",
    "    [(1, 0), (1, 1), (1, 2)],\n",
    "    [(2, 0), (2, 1), (2, 2)],\n",
    "    [(0, 0), (1, 0), (2, 0)],  # Columns\n",
    "    [(0, 1), (1, 1), (2, 1)],\n",
    "    [(0, 2), (1, 2), (2, 2)],\n",
    "    [(0, 0), (1, 1), (2, 2)],  # Diagonals\n",
    "    [(0, 2), (1, 1), (2, 0)]\n",
    "]\n",
    "\n",
    "winning_conditions"
   ]
  },
  {
   "cell_type": "code",
   "execution_count": 9,
   "id": "b2c6fb20",
   "metadata": {},
   "outputs": [
    {
     "name": "stdout",
     "output_type": "stream",
     "text": [
      "A\n",
      "Pending\n"
     ]
    }
   ],
   "source": [
    "# Check for winning conditions\n",
    "for condition in winning_conditions:\n",
    "    symbols = [board[row][col] for row, col in condition]\n",
    "    if symbols.count('X') == 3:\n",
    "        print('A')\n",
    "    elif symbols.count('O') == 3:\n",
    "        print('B')\n",
    "\n",
    "# Check for draw or pending game\n",
    "if len(moves) == 9:\n",
    "    print('Draw')\n",
    "else:\n",
    "    print('Pending')"
   ]
  },
  {
   "cell_type": "code",
   "execution_count": null,
   "id": "66508e2e",
   "metadata": {},
   "outputs": [],
   "source": []
  }
 ],
 "metadata": {
  "kernelspec": {
   "display_name": "Python 3 (ipykernel)",
   "language": "python",
   "name": "python3"
  },
  "language_info": {
   "codemirror_mode": {
    "name": "ipython",
    "version": 3
   },
   "file_extension": ".py",
   "mimetype": "text/x-python",
   "name": "python",
   "nbconvert_exporter": "python",
   "pygments_lexer": "ipython3",
   "version": "3.9.7"
  }
 },
 "nbformat": 4,
 "nbformat_minor": 5
}

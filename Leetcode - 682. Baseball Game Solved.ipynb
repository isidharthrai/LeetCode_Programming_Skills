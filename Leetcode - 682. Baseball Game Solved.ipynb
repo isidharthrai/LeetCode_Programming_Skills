{
 "cells": [
  {
   "cell_type": "markdown",
   "id": "47227b83",
   "metadata": {},
   "source": [
    "<code>\n",
    "    class Solution(object):\n",
    "    def calPoints(self, operations):\n",
    "        \"\"\"\n",
    "        :type operations: List[str]\n",
    "        :rtype: int\n",
    "        \"\"\"\n",
    "        score = []\n",
    "        for op in operations:\n",
    "            if op == \"C\":\n",
    "                if score:\n",
    "                    score.pop()\n",
    "            elif op == \"D\":\n",
    "                if score:\n",
    "                    score.append(score[-1] * 2)\n",
    "            elif op == \"+\":\n",
    "                if len(score) >= 2:\n",
    "                    score.append(score[-1] + score[-2])\n",
    "            else:\n",
    "                score.append(int(op))\n",
    "        return(sum(score))\n",
    "</code>"
   ]
  },
  {
   "cell_type": "code",
   "execution_count": 6,
   "id": "44b8a93e",
   "metadata": {},
   "outputs": [],
   "source": [
    "ops = [\"5\",\"2\",\"C\",\"D\",\"+\"]"
   ]
  },
  {
   "cell_type": "code",
   "execution_count": 10,
   "id": "09169334",
   "metadata": {},
   "outputs": [],
   "source": [
    "ops = [\"5\",\"-2\",\"4\",\"C\",\"D\",\"9\",\"+\",\"+\"]"
   ]
  },
  {
   "cell_type": "code",
   "execution_count": 12,
   "id": "a3d2a01d",
   "metadata": {},
   "outputs": [],
   "source": [
    "ops = [\"1\",\"C\"]"
   ]
  },
  {
   "cell_type": "code",
   "execution_count": 13,
   "id": "7026651e",
   "metadata": {},
   "outputs": [
    {
     "name": "stdout",
     "output_type": "stream",
     "text": [
      "0\n"
     ]
    }
   ],
   "source": [
    "score = []\n",
    "for op in ops:\n",
    "    if op == \"C\":\n",
    "        if score:\n",
    "            score.pop()\n",
    "    elif op == \"D\":\n",
    "        if score:\n",
    "            score.append(score[-1] * 2)\n",
    "    elif op == \"+\":\n",
    "        if len(score) >= 2:\n",
    "            score.append(score[-1] + score[-2])\n",
    "    else:\n",
    "        score.append(int(op))\n",
    "\n",
    "print( sum(score))"
   ]
  },
  {
   "cell_type": "code",
   "execution_count": null,
   "id": "15a3379b",
   "metadata": {},
   "outputs": [],
   "source": []
  }
 ],
 "metadata": {
  "kernelspec": {
   "display_name": "Python 3 (ipykernel)",
   "language": "python",
   "name": "python3"
  },
  "language_info": {
   "codemirror_mode": {
    "name": "ipython",
    "version": 3
   },
   "file_extension": ".py",
   "mimetype": "text/x-python",
   "name": "python",
   "nbconvert_exporter": "python",
   "pygments_lexer": "ipython3",
   "version": "3.9.7"
  }
 },
 "nbformat": 4,
 "nbformat_minor": 5
}

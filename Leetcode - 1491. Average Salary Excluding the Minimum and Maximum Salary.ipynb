{
 "cells": [
  {
   "cell_type": "code",
   "execution_count": 8,
   "id": "fc98ac66",
   "metadata": {},
   "outputs": [],
   "source": [
    "salary = [4000,3000,1000,2000]\n",
    "salary = [48000,59000,99000,13000,78000,45000,31000,17000,39000,37000,93000,77000,33000,28000,4000,54000,67000,6000,1000,11000]"
   ]
  },
  {
   "cell_type": "markdown",
   "id": "cef207a9",
   "metadata": {},
   "source": [
    "Approach 1"
   ]
  },
  {
   "cell_type": "code",
   "execution_count": 2,
   "id": "a412f8f9",
   "metadata": {},
   "outputs": [
    {
     "data": {
      "text/plain": [
       "41111.11111111111"
      ]
     },
     "execution_count": 2,
     "metadata": {},
     "output_type": "execute_result"
    }
   ],
   "source": [
    "from statistics import mean \n",
    "salary.remove(min(salary))\n",
    "salary.remove(max(salary))\n",
    "mean(salary)"
   ]
  },
  {
   "cell_type": "markdown",
   "id": "6090aa73",
   "metadata": {},
   "source": [
    "Approach 2"
   ]
  },
  {
   "cell_type": "code",
   "execution_count": 4,
   "id": "85f0c6ad",
   "metadata": {},
   "outputs": [
    {
     "data": {
      "text/plain": [
       "41111.11111111111"
      ]
     },
     "execution_count": 4,
     "metadata": {},
     "output_type": "execute_result"
    }
   ],
   "source": [
    "salary.remove(min(salary))\n",
    "salary.remove(max(salary))\n",
    "float(sum(salary)/len(salary))"
   ]
  },
  {
   "cell_type": "code",
   "execution_count": 10,
   "id": "9e05f685",
   "metadata": {
    "scrolled": true
   },
   "outputs": [
    {
     "data": {
      "text/plain": [
       "'39050.00000'"
      ]
     },
     "execution_count": 10,
     "metadata": {},
     "output_type": "execute_result"
    }
   ],
   "source": [
    "(\"{:.5f}\".format(float((sum(salary)-salary[0]-salary[-1])/len(salary))))"
   ]
  },
  {
   "cell_type": "markdown",
   "id": "287981cc",
   "metadata": {},
   "source": [
    "Approach 3"
   ]
  },
  {
   "cell_type": "code",
   "execution_count": 6,
   "id": "18117089",
   "metadata": {},
   "outputs": [
    {
     "name": "stdout",
     "output_type": "stream",
     "text": [
      "41111.11111111111\n"
     ]
    }
   ],
   "source": [
    "salary.sort()\n",
    "print((sum(salary)-salary[0]-salary[-1])/(len(salary)-2))"
   ]
  },
  {
   "cell_type": "code",
   "execution_count": null,
   "id": "77c840e6",
   "metadata": {},
   "outputs": [],
   "source": []
  }
 ],
 "metadata": {
  "kernelspec": {
   "display_name": "Python 3 (ipykernel)",
   "language": "python",
   "name": "python3"
  },
  "language_info": {
   "codemirror_mode": {
    "name": "ipython",
    "version": 3
   },
   "file_extension": ".py",
   "mimetype": "text/x-python",
   "name": "python",
   "nbconvert_exporter": "python",
   "pygments_lexer": "ipython3",
   "version": "3.9.7"
  }
 },
 "nbformat": 4,
 "nbformat_minor": 5
}

{
 "cells": [
  {
   "cell_type": "markdown",
   "id": "c9bef8fd",
   "metadata": {},
   "source": [
    "## 1768. Merge Strings Alternately\n",
    "\n",
    "You are given two strings word1 and word2. Merge the strings by adding letters in alternating order, starting with word1. If a string is longer than the other, append the additional letters onto the end of the merged string.\n",
    "</br>\n",
    "Return the merged string.\n",
    "</br></br></br>\n",
    " \n",
    "\n",
    "Example 1:</br>\n",
    "\n",
    "Input: word1 = \"abc\", word2 = \"pqr\"</br>\n",
    "Output: \"apbqcr\"</br>\n",
    "Explanation: The merged string will be merged as so:</br>\n",
    "    word1:  a   b   c</br>\n",
    "    word2:    p   q   r</br>\n",
    "    merged: a p b q c r</br>\n",
    "</br>\n",
    "Example 2:</br>\n",
    "\n",
    "Input: word1 = \"ab\", word2 = \"pqrs\"</br>\n",
    "Output: \"apbqrs\"</br>\n",
    "Explanation: Notice that as word2 is longer, \"rs\" is appended to the end.</br>\n",
    "    word1:  a   b </br>\n",
    "    word2:    p   q   r   s</br>\n",
    "    merged: a p b q   r   s</br>\n",
    "</br>\n",
    "Example 3:</br>\n",
    "\n",
    "Input: word1 = \"abcd\", word2 = \"pq\"</br>\n",
    "Output: \"apbqcd\"</br>\n",
    "Explanation: Notice that as word1 is longer, \"cd\" is appended to the end.</br>\n",
    "    word1:  a   b   c   d</br>\n",
    "    word2:    p   q </br>\n",
    "    merged: a p b q c d</br>\n",
    " \n",
    "\n",
    "Constraints:</br>\n",
    "</br>\n",
    "1 <= word1.length, word2.length <= 100</br>\n",
    "word1 and word2 consist of lowercase English letters.</br>"
   ]
  },
  {
   "cell_type": "code",
   "execution_count": 54,
   "id": "fbb56edd",
   "metadata": {},
   "outputs": [],
   "source": [
    "word1 = 'abc'#'abcd'#'abc'\n",
    "word2 = 'pqr'#'pq'#'pqrs'"
   ]
  },
  {
   "cell_type": "code",
   "execution_count": 59,
   "id": "5f258d92",
   "metadata": {},
   "outputs": [
    {
     "name": "stdout",
     "output_type": "stream",
     "text": [
      "apbqcr\n"
     ]
    }
   ],
   "source": [
    "word1 = list(word1)\n",
    "word2 = list(word2)\n",
    "mergedList = []\n",
    "k = 0\n",
    "\n",
    "if len(word1) > len(word2):\n",
    "    for x in range(len(word2)):\n",
    "        mergedList.append(word1[x])\n",
    "        mergedList.append(word2[x])\n",
    "        print(x)\n",
    "        k = x+1\n",
    "    while k < len(word1):\n",
    "        mergedList.append(word1[k])\n",
    "        print(k)\n",
    "        k += 1\n",
    "\n",
    "\n",
    "if len(word1) < len(word2):\n",
    "    for x in range(len(word1)):\n",
    "        mergedList.append(word1[x])\n",
    "        mergedList.append(word2[x])\n",
    "        print(x)\n",
    "        k = x+1\n",
    "    while k < len(word2):\n",
    "        mergedList.append(word2[k])\n",
    "        print(k)\n",
    "        k += 1\n",
    "\n",
    "if len(word1) == len(word2):\n",
    "    for x in range(len(word1)):\n",
    "        mergedList.append(word1[x])\n",
    "        mergedList.append(word2[x])\n",
    "\n",
    "print (''.join(str(elem) for elem in mergedList)) #replace print with return"
   ]
  },
  {
   "cell_type": "code",
   "execution_count": null,
   "id": "b2ba50db",
   "metadata": {},
   "outputs": [],
   "source": [
    "`"
   ]
  }
 ],
 "metadata": {
  "kernelspec": {
   "display_name": "Python 3 (ipykernel)",
   "language": "python",
   "name": "python3"
  },
  "language_info": {
   "codemirror_mode": {
    "name": "ipython",
    "version": 3
   },
   "file_extension": ".py",
   "mimetype": "text/x-python",
   "name": "python",
   "nbconvert_exporter": "python",
   "pygments_lexer": "ipython3",
   "version": "3.9.7"
  }
 },
 "nbformat": 4,
 "nbformat_minor": 5
}

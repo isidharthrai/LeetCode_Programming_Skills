{
 "cells": [
  {
   "cell_type": "markdown",
   "id": "2a8941a9",
   "metadata": {},
   "source": [
    "<code>\n",
    "    \n",
    "    class Solution(object):\n",
    "    def maximumWealth(self, accounts):\n",
    "        \"\"\"\n",
    "        :type accounts: List[List[int]]\n",
    "        :rtype: int\n",
    "        \"\"\"\n",
    "        maxlist = []\n",
    "        for x in accounts:\n",
    "            maxlist.append(int(sum(x)))\n",
    "        \n",
    "        return (max(maxlist))\n",
    "</code>"
   ]
  },
  {
   "cell_type": "code",
   "execution_count": 1,
   "id": "37087a9f",
   "metadata": {},
   "outputs": [],
   "source": [
    "accounts = [[1,5],[7,3],[3,5]]\n",
    "#accounts = [[2,8,7],[7,1,3],[1,9,5]]"
   ]
  },
  {
   "cell_type": "code",
   "execution_count": 2,
   "id": "762a5481",
   "metadata": {},
   "outputs": [],
   "source": [
    "maxlist = []\n",
    "for x in accounts:\n",
    "    maxlist.append(int(sum(x)))"
   ]
  },
  {
   "cell_type": "code",
   "execution_count": 3,
   "id": "54a8ab6b",
   "metadata": {},
   "outputs": [
    {
     "data": {
      "text/plain": [
       "[6, 10, 8]"
      ]
     },
     "execution_count": 3,
     "metadata": {},
     "output_type": "execute_result"
    }
   ],
   "source": [
    "maxlist"
   ]
  },
  {
   "cell_type": "code",
   "execution_count": 5,
   "id": "e434e467",
   "metadata": {},
   "outputs": [
    {
     "data": {
      "text/plain": [
       "10"
      ]
     },
     "execution_count": 5,
     "metadata": {},
     "output_type": "execute_result"
    }
   ],
   "source": [
    "max(maxlist)"
   ]
  },
  {
   "cell_type": "code",
   "execution_count": null,
   "id": "30db31d0",
   "metadata": {},
   "outputs": [],
   "source": []
  }
 ],
 "metadata": {
  "kernelspec": {
   "display_name": "Python 3 (ipykernel)",
   "language": "python",
   "name": "python3"
  },
  "language_info": {
   "codemirror_mode": {
    "name": "ipython",
    "version": 3
   },
   "file_extension": ".py",
   "mimetype": "text/x-python",
   "name": "python",
   "nbconvert_exporter": "python",
   "pygments_lexer": "ipython3",
   "version": "3.9.7"
  }
 },
 "nbformat": 4,
 "nbformat_minor": 5
}
